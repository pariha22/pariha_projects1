{
 "cells": [
  {
   "cell_type": "code",
   "execution_count": 1,
   "id": "529e9332",
   "metadata": {},
   "outputs": [
    {
     "data": {
      "text/html": [
       "<div>\n",
       "<style scoped>\n",
       "    .dataframe tbody tr th:only-of-type {\n",
       "        vertical-align: middle;\n",
       "    }\n",
       "\n",
       "    .dataframe tbody tr th {\n",
       "        vertical-align: top;\n",
       "    }\n",
       "\n",
       "    .dataframe thead th {\n",
       "        text-align: right;\n",
       "    }\n",
       "</style>\n",
       "<table border=\"1\" class=\"dataframe\">\n",
       "  <thead>\n",
       "    <tr style=\"text-align: right;\">\n",
       "      <th></th>\n",
       "      <th>V1</th>\n",
       "      <th>V2</th>\n",
       "      <th>V3</th>\n",
       "      <th>V4</th>\n",
       "      <th>V5</th>\n",
       "      <th>V6</th>\n",
       "      <th>V7</th>\n",
       "      <th>V8</th>\n",
       "      <th>V9</th>\n",
       "      <th>V10</th>\n",
       "      <th>...</th>\n",
       "      <th>V21</th>\n",
       "      <th>V22</th>\n",
       "      <th>V23</th>\n",
       "      <th>V24</th>\n",
       "      <th>V25</th>\n",
       "      <th>V26</th>\n",
       "      <th>V27</th>\n",
       "      <th>V28</th>\n",
       "      <th>Amount</th>\n",
       "      <th>Class</th>\n",
       "    </tr>\n",
       "  </thead>\n",
       "  <tbody>\n",
       "    <tr>\n",
       "      <th>0</th>\n",
       "      <td>1.176563</td>\n",
       "      <td>0.323798</td>\n",
       "      <td>0.536927</td>\n",
       "      <td>1.047002</td>\n",
       "      <td>-0.368652</td>\n",
       "      <td>-0.728586</td>\n",
       "      <td>0.084678</td>\n",
       "      <td>-0.069246</td>\n",
       "      <td>-0.266389</td>\n",
       "      <td>0.155315</td>\n",
       "      <td>...</td>\n",
       "      <td>-0.109627</td>\n",
       "      <td>-0.341365</td>\n",
       "      <td>0.057845</td>\n",
       "      <td>0.499180</td>\n",
       "      <td>0.415211</td>\n",
       "      <td>-0.581949</td>\n",
       "      <td>0.015472</td>\n",
       "      <td>0.018065</td>\n",
       "      <td>4.67</td>\n",
       "      <td>0</td>\n",
       "    </tr>\n",
       "    <tr>\n",
       "      <th>1</th>\n",
       "      <td>0.681109</td>\n",
       "      <td>-3.934776</td>\n",
       "      <td>-3.801827</td>\n",
       "      <td>-1.147468</td>\n",
       "      <td>-0.735540</td>\n",
       "      <td>-0.501097</td>\n",
       "      <td>1.038865</td>\n",
       "      <td>-0.626979</td>\n",
       "      <td>-2.274423</td>\n",
       "      <td>1.527782</td>\n",
       "      <td>...</td>\n",
       "      <td>0.652202</td>\n",
       "      <td>0.272684</td>\n",
       "      <td>-0.982151</td>\n",
       "      <td>0.165900</td>\n",
       "      <td>0.360251</td>\n",
       "      <td>0.195321</td>\n",
       "      <td>-0.256273</td>\n",
       "      <td>0.056501</td>\n",
       "      <td>912.00</td>\n",
       "      <td>0</td>\n",
       "    </tr>\n",
       "    <tr>\n",
       "      <th>2</th>\n",
       "      <td>1.140729</td>\n",
       "      <td>0.453484</td>\n",
       "      <td>0.247010</td>\n",
       "      <td>2.383132</td>\n",
       "      <td>0.343287</td>\n",
       "      <td>0.432804</td>\n",
       "      <td>0.093380</td>\n",
       "      <td>0.173310</td>\n",
       "      <td>-0.808999</td>\n",
       "      <td>0.775436</td>\n",
       "      <td>...</td>\n",
       "      <td>-0.003802</td>\n",
       "      <td>0.058556</td>\n",
       "      <td>-0.121177</td>\n",
       "      <td>-0.304215</td>\n",
       "      <td>0.645893</td>\n",
       "      <td>0.122600</td>\n",
       "      <td>-0.012115</td>\n",
       "      <td>-0.005945</td>\n",
       "      <td>1.00</td>\n",
       "      <td>0</td>\n",
       "    </tr>\n",
       "    <tr>\n",
       "      <th>3</th>\n",
       "      <td>-1.107073</td>\n",
       "      <td>-3.298902</td>\n",
       "      <td>-0.184092</td>\n",
       "      <td>-1.795744</td>\n",
       "      <td>2.137564</td>\n",
       "      <td>-1.684992</td>\n",
       "      <td>-2.015606</td>\n",
       "      <td>-0.007181</td>\n",
       "      <td>-0.165760</td>\n",
       "      <td>0.869659</td>\n",
       "      <td>...</td>\n",
       "      <td>0.130648</td>\n",
       "      <td>0.329445</td>\n",
       "      <td>0.927656</td>\n",
       "      <td>-0.049560</td>\n",
       "      <td>-1.892866</td>\n",
       "      <td>-0.575431</td>\n",
       "      <td>0.266573</td>\n",
       "      <td>0.414184</td>\n",
       "      <td>62.10</td>\n",
       "      <td>0</td>\n",
       "    </tr>\n",
       "    <tr>\n",
       "      <th>4</th>\n",
       "      <td>-0.314818</td>\n",
       "      <td>0.866839</td>\n",
       "      <td>-0.124577</td>\n",
       "      <td>-0.627638</td>\n",
       "      <td>2.651762</td>\n",
       "      <td>3.428128</td>\n",
       "      <td>0.194637</td>\n",
       "      <td>0.670674</td>\n",
       "      <td>-0.442658</td>\n",
       "      <td>0.133499</td>\n",
       "      <td>...</td>\n",
       "      <td>-0.312774</td>\n",
       "      <td>-0.799494</td>\n",
       "      <td>-0.064488</td>\n",
       "      <td>0.953062</td>\n",
       "      <td>-0.429550</td>\n",
       "      <td>0.158225</td>\n",
       "      <td>0.076943</td>\n",
       "      <td>-0.015051</td>\n",
       "      <td>2.67</td>\n",
       "      <td>0</td>\n",
       "    </tr>\n",
       "  </tbody>\n",
       "</table>\n",
       "<p>5 rows × 30 columns</p>\n",
       "</div>"
      ],
      "text/plain": [
       "         V1        V2        V3        V4        V5        V6        V7  \\\n",
       "0  1.176563  0.323798  0.536927  1.047002 -0.368652 -0.728586  0.084678   \n",
       "1  0.681109 -3.934776 -3.801827 -1.147468 -0.735540 -0.501097  1.038865   \n",
       "2  1.140729  0.453484  0.247010  2.383132  0.343287  0.432804  0.093380   \n",
       "3 -1.107073 -3.298902 -0.184092 -1.795744  2.137564 -1.684992 -2.015606   \n",
       "4 -0.314818  0.866839 -0.124577 -0.627638  2.651762  3.428128  0.194637   \n",
       "\n",
       "         V8        V9       V10  ...       V21       V22       V23       V24  \\\n",
       "0 -0.069246 -0.266389  0.155315  ... -0.109627 -0.341365  0.057845  0.499180   \n",
       "1 -0.626979 -2.274423  1.527782  ...  0.652202  0.272684 -0.982151  0.165900   \n",
       "2  0.173310 -0.808999  0.775436  ... -0.003802  0.058556 -0.121177 -0.304215   \n",
       "3 -0.007181 -0.165760  0.869659  ...  0.130648  0.329445  0.927656 -0.049560   \n",
       "4  0.670674 -0.442658  0.133499  ... -0.312774 -0.799494 -0.064488  0.953062   \n",
       "\n",
       "        V25       V26       V27       V28  Amount  Class  \n",
       "0  0.415211 -0.581949  0.015472  0.018065    4.67      0  \n",
       "1  0.360251  0.195321 -0.256273  0.056501  912.00      0  \n",
       "2  0.645893  0.122600 -0.012115 -0.005945    1.00      0  \n",
       "3 -1.892866 -0.575431  0.266573  0.414184   62.10      0  \n",
       "4 -0.429550  0.158225  0.076943 -0.015051    2.67      0  \n",
       "\n",
       "[5 rows x 30 columns]"
      ]
     },
     "execution_count": 1,
     "metadata": {},
     "output_type": "execute_result"
    }
   ],
   "source": [
    "import pandas as pd\n",
    "from collections import Counter\n",
    "import itertools\n",
    "# Load the csv file\n",
    "dataframe = pd.read_csv(\"C:/Users/test/Downloads/fraud_data.csv\")\n",
    "dataframe.head()"
   ]
  },
  {
   "cell_type": "code",
   "execution_count": 2,
   "id": "6c7c6d6e",
   "metadata": {},
   "outputs": [
    {
     "data": {
      "text/plain": [
       "False"
      ]
     },
     "execution_count": 2,
     "metadata": {},
     "output_type": "execute_result"
    }
   ],
   "source": [
    "dataframe.isnull().values.any()"
   ]
  },
  {
   "cell_type": "code",
   "execution_count": 3,
   "id": "45cf6c43",
   "metadata": {},
   "outputs": [
    {
     "data": {
      "text/plain": [
       "count    21693.000000\n",
       "mean        86.776247\n",
       "std        235.644479\n",
       "min          0.000000\n",
       "25%          5.370000\n",
       "50%         21.950000\n",
       "75%         76.480000\n",
       "max       7712.430000\n",
       "Name: Amount, dtype: float64"
      ]
     },
     "execution_count": 3,
     "metadata": {},
     "output_type": "execute_result"
    }
   ],
   "source": [
    "dataframe[\"Amount\"].describe()"
   ]
  },
  {
   "cell_type": "code",
   "execution_count": 4,
   "id": "040c333f",
   "metadata": {},
   "outputs": [
    {
     "name": "stdout",
     "output_type": "stream",
     "text": [
      "Number of Genuine transactions:  21337\n",
      "Number of Fraud transactions:  356\n",
      "Percentage of Fraud transactions: 1.6411\n"
     ]
    }
   ],
   "source": [
    "non_fraud = len(dataframe[dataframe.Class == 0])\n",
    "fraud = len(dataframe[dataframe.Class == 1])\n",
    "fraud_percent = (fraud / (fraud + non_fraud)) * 100\n",
    "print(\"Number of Genuine transactions: \", non_fraud)\n",
    "print(\"Number of Fraud transactions: \", fraud)\n",
    "print(\"Percentage of Fraud transactions: {:.4f}\".format(fraud_percent))"
   ]
  },
  {
   "cell_type": "code",
   "execution_count": 5,
   "id": "8eb27758",
   "metadata": {},
   "outputs": [
    {
     "data": {
      "image/png": "[encoded data removed]",
      "text/plain": [
       "<Figure size 432x288 with 1 Axes>"
      ]
     },
     "metadata": {
      "needs_background": "light"
     },
     "output_type": "display_data"
    }
   ],
   "source": [
    "import matplotlib.pyplot as plt\n",
    "labels = [\"Genuine\", \"Fraud\"]\n",
    "count_classes = dataframe.value_counts(dataframe['Class'], sort= True)\n",
    "count_classes.plot(kind = \"bar\", rot = 0)\n",
    "plt.title(\"Visualization of Labels\")\n",
    "plt.ylabel(\"Count\")\n",
    "plt.xticks(range(2), labels)\n",
    "plt.show()"
   ]
  },
  {
   "cell_type": "code",
   "execution_count": 6,
   "id": "a7ed3c3d",
   "metadata": {},
   "outputs": [],
   "source": [
    "import numpy as np\n",
    "from sklearn.preprocessing import StandardScaler\n",
    "\n",
    "scaler = StandardScaler()\n",
    "dataframe[\"NormalizedAmount\"] = scaler.fit_transform(dataframe[\"Amount\"].values.reshape(-1, 1))\n",
    "dataframe.drop([\"Amount\"], inplace= True, axis= 1)\n",
    "\n",
    "Y = dataframe[\"Class\"]\n",
    "X = dataframe.drop([\"Class\"], axis= 1)"
   ]
  },
  {
   "cell_type": "code",
   "execution_count": 7,
   "id": "f5213d5f",
   "metadata": {},
   "outputs": [
    {
     "name": "stdout",
     "output_type": "stream",
     "text": [
      "Shape of train_X:  (15185, 29)\n",
      "Shape of test_X:  (6508, 29)\n"
     ]
    }
   ],
   "source": [
    "from sklearn.model_selection import train_test_split\n",
    "\n",
    "(train_X, test_X, train_Y, test_Y) = train_test_split(X, Y, test_size= 0.3, random_state= 42)\n",
    "\n",
    "print(\"Shape of train_X: \", train_X.shape)\n",
    "print(\"Shape of test_X: \", test_X.shape)"
   ]
  },
  {
   "cell_type": "code",
   "execution_count": 8,
   "id": "42c6565a",
   "metadata": {},
   "outputs": [],
   "source": [
    "#Dropping Time as it's non business required data\n",
    "estimators=[ 'V1', 'V2', 'V3', 'V4', 'V5', 'V6', 'V7', 'V8', 'V9', 'V10',\n",
    "       'V11', 'V12', 'V13', 'V14', 'V15', 'V16', 'V17', 'V18', 'V19', 'V20',\n",
    "       'V21', 'V22', 'V23', 'V24', 'V25', 'V26', 'V27', 'V28']\n",
    "\n",
    "X = dataframe[estimators]\n",
    "Y = dataframe['Class']"
   ]
  },
  {
   "cell_type": "code",
   "execution_count": 9,
   "id": "44fe7848",
   "metadata": {},
   "outputs": [
    {
     "data": {
      "text/plain": [
       "Index(['V1', 'V2', 'V3', 'V4', 'V5', 'V6', 'V7', 'V8', 'V9', 'V10', 'V11',\n",
       "       'V12', 'V13', 'V14', 'V15', 'V16', 'V17', 'V18', 'V19', 'V20', 'V21',\n",
       "       'V22', 'V23', 'V24', 'V25', 'V26', 'V27'],\n",
       "      dtype='object')"
      ]
     },
     "execution_count": 9,
     "metadata": {},
     "output_type": "execute_result"
    }
   ],
   "source": [
    "col=X.columns[:-1]\n",
    "col"
   ]
  },
  {
   "cell_type": "code",
   "execution_count": 10,
   "id": "813c52de",
   "metadata": {},
   "outputs": [],
   "source": [
    "import statsmodels.api as sm"
   ]
  },
  {
   "cell_type": "code",
   "execution_count": 11,
   "id": "4b87e6d8",
   "metadata": {},
   "outputs": [
    {
     "name": "stdout",
     "output_type": "stream",
     "text": [
      "Optimization terminated successfully.\n",
      "         Current function value: 0.017693\n",
      "         Iterations 11\n"
     ]
    }
   ],
   "source": [
    "X1 = sm.add_constant(X)\n",
    "reg_logit = sm.Logit(Y,X1)\n",
    "results_logit = reg_logit.fit()"
   ]
  },
  {
   "cell_type": "code",
   "execution_count": 12,
   "id": "dfad69f4",
   "metadata": {},
   "outputs": [
    {
     "data": {
      "text/html": [
       "<table class=\"simpletable\">\n",
       "<caption>Logit Regression Results</caption>\n",
       "<tr>\n",
       "  <th>Dep. Variable:</th>         <td>Class</td>      <th>  No. Observations:  </th>  <td> 21693</td> \n",
       "</tr>\n",
       "<tr>\n",
       "  <th>Model:</th>                 <td>Logit</td>      <th>  Df Residuals:      </th>  <td> 21664</td> \n",
       "</tr>\n",
       "<tr>\n",
       "  <th>Method:</th>                 <td>MLE</td>       <th>  Df Model:          </th>  <td>    28</td> \n",
       "</tr>\n",
       "<tr>\n",
       "  <th>Date:</th>            <td>Mon, 10 Apr 2023</td> <th>  Pseudo R-squ.:     </th>  <td>0.7887</td> \n",
       "</tr>\n",
       "<tr>\n",
       "  <th>Time:</th>                <td>09:33:51</td>     <th>  Log-Likelihood:    </th> <td> -383.81</td>\n",
       "</tr>\n",
       "<tr>\n",
       "  <th>converged:</th>             <td>True</td>       <th>  LL-Null:           </th> <td> -1816.2</td>\n",
       "</tr>\n",
       "<tr>\n",
       "  <th>Covariance Type:</th>     <td>nonrobust</td>    <th>  LLR p-value:       </th>  <td> 0.000</td> \n",
       "</tr>\n",
       "</table>\n",
       "<table class=\"simpletable\">\n",
       "<tr>\n",
       "    <td></td>       <th>coef</th>     <th>std err</th>      <th>z</th>      <th>P>|z|</th>  <th>[0.025</th>    <th>0.975]</th>  \n",
       "</tr>\n",
       "<tr>\n",
       "  <th>const</th> <td>   -6.8729</td> <td>    0.216</td> <td>  -31.813</td> <td> 0.000</td> <td>   -7.296</td> <td>   -6.449</td>\n",
       "</tr>\n",
       "<tr>\n",
       "  <th>V1</th>    <td>    0.0849</td> <td>    0.060</td> <td>    1.421</td> <td> 0.155</td> <td>   -0.032</td> <td>    0.202</td>\n",
       "</tr>\n",
       "<tr>\n",
       "  <th>V2</th>    <td>   -0.0368</td> <td>    0.067</td> <td>   -0.547</td> <td> 0.584</td> <td>   -0.169</td> <td>    0.095</td>\n",
       "</tr>\n",
       "<tr>\n",
       "  <th>V3</th>    <td>   -0.0059</td> <td>    0.071</td> <td>   -0.083</td> <td> 0.934</td> <td>   -0.145</td> <td>    0.133</td>\n",
       "</tr>\n",
       "<tr>\n",
       "  <th>V4</th>    <td>    0.7388</td> <td>    0.097</td> <td>    7.624</td> <td> 0.000</td> <td>    0.549</td> <td>    0.929</td>\n",
       "</tr>\n",
       "<tr>\n",
       "  <th>V5</th>    <td>    0.0447</td> <td>    0.094</td> <td>    0.475</td> <td> 0.635</td> <td>   -0.140</td> <td>    0.229</td>\n",
       "</tr>\n",
       "<tr>\n",
       "  <th>V6</th>    <td>   -0.2189</td> <td>    0.134</td> <td>   -1.639</td> <td> 0.101</td> <td>   -0.481</td> <td>    0.043</td>\n",
       "</tr>\n",
       "<tr>\n",
       "  <th>V7</th>    <td>   -0.0430</td> <td>    0.086</td> <td>   -0.501</td> <td> 0.617</td> <td>   -0.211</td> <td>    0.125</td>\n",
       "</tr>\n",
       "<tr>\n",
       "  <th>V8</th>    <td>   -0.3116</td> <td>    0.054</td> <td>   -5.791</td> <td> 0.000</td> <td>   -0.417</td> <td>   -0.206</td>\n",
       "</tr>\n",
       "<tr>\n",
       "  <th>V9</th>    <td>   -0.2162</td> <td>    0.148</td> <td>   -1.464</td> <td> 0.143</td> <td>   -0.506</td> <td>    0.073</td>\n",
       "</tr>\n",
       "<tr>\n",
       "  <th>V10</th>   <td>   -0.4411</td> <td>    0.145</td> <td>   -3.040</td> <td> 0.002</td> <td>   -0.725</td> <td>   -0.157</td>\n",
       "</tr>\n",
       "<tr>\n",
       "  <th>V11</th>   <td>    0.3104</td> <td>    0.108</td> <td>    2.861</td> <td> 0.004</td> <td>    0.098</td> <td>    0.523</td>\n",
       "</tr>\n",
       "<tr>\n",
       "  <th>V12</th>   <td>   -0.4134</td> <td>    0.116</td> <td>   -3.569</td> <td> 0.000</td> <td>   -0.640</td> <td>   -0.186</td>\n",
       "</tr>\n",
       "<tr>\n",
       "  <th>V13</th>   <td>   -0.2703</td> <td>    0.117</td> <td>   -2.313</td> <td> 0.021</td> <td>   -0.499</td> <td>   -0.041</td>\n",
       "</tr>\n",
       "<tr>\n",
       "  <th>V14</th>   <td>   -0.6817</td> <td>    0.094</td> <td>   -7.275</td> <td> 0.000</td> <td>   -0.865</td> <td>   -0.498</td>\n",
       "</tr>\n",
       "<tr>\n",
       "  <th>V15</th>   <td>   -0.1947</td> <td>    0.129</td> <td>   -1.515</td> <td> 0.130</td> <td>   -0.447</td> <td>    0.057</td>\n",
       "</tr>\n",
       "<tr>\n",
       "  <th>V16</th>   <td>   -0.3024</td> <td>    0.169</td> <td>   -1.785</td> <td> 0.074</td> <td>   -0.634</td> <td>    0.030</td>\n",
       "</tr>\n",
       "<tr>\n",
       "  <th>V17</th>   <td>    0.0450</td> <td>    0.100</td> <td>    0.449</td> <td> 0.654</td> <td>   -0.151</td> <td>    0.241</td>\n",
       "</tr>\n",
       "<tr>\n",
       "  <th>V18</th>   <td>   -0.1209</td> <td>    0.177</td> <td>   -0.684</td> <td> 0.494</td> <td>   -0.467</td> <td>    0.226</td>\n",
       "</tr>\n",
       "<tr>\n",
       "  <th>V19</th>   <td>   -0.0796</td> <td>    0.140</td> <td>   -0.567</td> <td> 0.570</td> <td>   -0.355</td> <td>    0.195</td>\n",
       "</tr>\n",
       "<tr>\n",
       "  <th>V20</th>   <td>   -0.1446</td> <td>    0.138</td> <td>   -1.044</td> <td> 0.296</td> <td>   -0.416</td> <td>    0.127</td>\n",
       "</tr>\n",
       "<tr>\n",
       "  <th>V21</th>   <td>    0.3163</td> <td>    0.094</td> <td>    3.369</td> <td> 0.001</td> <td>    0.132</td> <td>    0.500</td>\n",
       "</tr>\n",
       "<tr>\n",
       "  <th>V22</th>   <td>    0.4881</td> <td>    0.188</td> <td>    2.598</td> <td> 0.009</td> <td>    0.120</td> <td>    0.856</td>\n",
       "</tr>\n",
       "<tr>\n",
       "  <th>V23</th>   <td>   -0.1311</td> <td>    0.109</td> <td>   -1.202</td> <td> 0.229</td> <td>   -0.345</td> <td>    0.083</td>\n",
       "</tr>\n",
       "<tr>\n",
       "  <th>V24</th>   <td>    0.1085</td> <td>    0.242</td> <td>    0.448</td> <td> 0.654</td> <td>   -0.366</td> <td>    0.583</td>\n",
       "</tr>\n",
       "<tr>\n",
       "  <th>V25</th>   <td>    0.0161</td> <td>    0.216</td> <td>    0.075</td> <td> 0.941</td> <td>   -0.407</td> <td>    0.439</td>\n",
       "</tr>\n",
       "<tr>\n",
       "  <th>V26</th>   <td>   -0.4271</td> <td>    0.298</td> <td>   -1.433</td> <td> 0.152</td> <td>   -1.011</td> <td>    0.157</td>\n",
       "</tr>\n",
       "<tr>\n",
       "  <th>V27</th>   <td>   -0.2557</td> <td>    0.264</td> <td>   -0.968</td> <td> 0.333</td> <td>   -0.774</td> <td>    0.262</td>\n",
       "</tr>\n",
       "<tr>\n",
       "  <th>V28</th>   <td>    0.0216</td> <td>    0.252</td> <td>    0.086</td> <td> 0.932</td> <td>   -0.472</td> <td>    0.515</td>\n",
       "</tr>\n",
       "</table>"
      ],
      "text/plain": [
       "<class 'statsmodels.iolib.summary.Summary'>\n",
       "\"\"\"\n",
       "                           Logit Regression Results                           \n",
       "==============================================================================\n",
       "Dep. Variable:                  Class   No. Observations:                21693\n",
       "Model:                          Logit   Df Residuals:                    21664\n",
       "Method:                           MLE   Df Model:                           28\n",
       "Date:                Mon, 10 Apr 2023   Pseudo R-squ.:                  0.7887\n",
       "Time:                        09:33:51   Log-Likelihood:                -383.81\n",
       "converged:                       True   LL-Null:                       -1816.2\n",
       "Covariance Type:            nonrobust   LLR p-value:                     0.000\n",
       "==============================================================================\n",
       "                 coef    std err          z      P>|z|      [0.025      0.975]\n",
       "------------------------------------------------------------------------------\n",
       "const         -6.8729      0.216    -31.813      0.000      -7.296      -6.449\n",
       "V1             0.0849      0.060      1.421      0.155      -0.032       0.202\n",
       "V2            -0.0368      0.067     -0.547      0.584      -0.169       0.095\n",
       "V3            -0.0059      0.071     -0.083      0.934      -0.145       0.133\n",
       "V4             0.7388      0.097      7.624      0.000       0.549       0.929\n",
       "V5             0.0447      0.094      0.475      0.635      -0.140       0.229\n",
       "V6            -0.2189      0.134     -1.639      0.101      -0.481       0.043\n",
       "V7            -0.0430      0.086     -0.501      0.617      -0.211       0.125\n",
       "V8            -0.3116      0.054     -5.791      0.000      -0.417      -0.206\n",
       "V9            -0.2162      0.148     -1.464      0.143      -0.506       0.073\n",
       "V10           -0.4411      0.145     -3.040      0.002      -0.725      -0.157\n",
       "V11            0.3104      0.108      2.861      0.004       0.098       0.523\n",
       "V12           -0.4134      0.116     -3.569      0.000      -0.640      -0.186\n",
       "V13           -0.2703      0.117     -2.313      0.021      -0.499      -0.041\n",
       "V14           -0.6817      0.094     -7.275      0.000      -0.865      -0.498\n",
       "V15           -0.1947      0.129     -1.515      0.130      -0.447       0.057\n",
       "V16           -0.3024      0.169     -1.785      0.074      -0.634       0.030\n",
       "V17            0.0450      0.100      0.449      0.654      -0.151       0.241\n",
       "V18           -0.1209      0.177     -0.684      0.494      -0.467       0.226\n",
       "V19           -0.0796      0.140     -0.567      0.570      -0.355       0.195\n",
       "V20           -0.1446      0.138     -1.044      0.296      -0.416       0.127\n",
       "V21            0.3163      0.094      3.369      0.001       0.132       0.500\n",
       "V22            0.4881      0.188      2.598      0.009       0.120       0.856\n",
       "V23           -0.1311      0.109     -1.202      0.229      -0.345       0.083\n",
       "V24            0.1085      0.242      0.448      0.654      -0.366       0.583\n",
       "V25            0.0161      0.216      0.075      0.941      -0.407       0.439\n",
       "V26           -0.4271      0.298     -1.433      0.152      -1.011       0.157\n",
       "V27           -0.2557      0.264     -0.968      0.333      -0.774       0.262\n",
       "V28            0.0216      0.252      0.086      0.932      -0.472       0.515\n",
       "==============================================================================\n",
       "\"\"\""
      ]
     },
     "execution_count": 12,
     "metadata": {},
     "output_type": "execute_result"
    }
   ],
   "source": [
    "results_logit.summary()"
   ]
  },
  {
   "cell_type": "code",
   "execution_count": 13,
   "id": "01657d03",
   "metadata": {},
   "outputs": [
    {
     "data": {
      "text/plain": [
       "LogisticRegression()"
      ]
     },
     "execution_count": 13,
     "metadata": {},
     "output_type": "execute_result"
    }
   ],
   "source": [
    "from sklearn.linear_model import LogisticRegression\n",
    "logreg=LogisticRegression()\n",
    "logreg.fit(train_X,train_Y)\n"
   ]
  },
  {
   "cell_type": "code",
   "execution_count": 14,
   "id": "a8921a0d",
   "metadata": {},
   "outputs": [],
   "source": [
    "pred = logreg.predict(test_X)"
   ]
  },
  {
   "cell_type": "code",
   "execution_count": 15,
   "id": "cadee917",
   "metadata": {},
   "outputs": [],
   "source": [
    "from sklearn.metrics import accuracy_score, precision_score, confusion_matrix, recall_score, f1_score"
   ]
  },
  {
   "cell_type": "code",
   "execution_count": 16,
   "id": "dca0694a",
   "metadata": {},
   "outputs": [
    {
     "data": {
      "text/plain": [
       "array([[6406,    3],\n",
       "       [  16,   83]], dtype=int64)"
      ]
     },
     "execution_count": 16,
     "metadata": {},
     "output_type": "execute_result"
    }
   ],
   "source": [
    "cm1 = confusion_matrix(test_Y, pred)\n",
    "cm1"
   ]
  },
  {
   "cell_type": "code",
   "execution_count": 17,
   "id": "d2228127",
   "metadata": {},
   "outputs": [],
   "source": [
    "def metrics(actuals, predictions):\n",
    "    print(\"Accuracy: {:.5f}\".format(accuracy_score(actuals, predictions)))\n",
    "    print(\"Precision: {:.5f}\".format(precision_score(actuals, predictions)))\n",
    "    print(\"Recall: {:.5f}\".format(recall_score(actuals, predictions)))\n",
    "    print(\"F1-score: {:.5f}\".format(f1_score(actuals, predictions)))"
   ]
  },
  {
   "cell_type": "code",
   "execution_count": 18,
   "id": "d02b30a1",
   "metadata": {},
   "outputs": [
    {
     "name": "stdout",
     "output_type": "stream",
     "text": [
      "Evaluation of Logistic Regression\n",
      "\n",
      "Accuracy: 0.99708\n",
      "Precision: 0.96512\n",
      "Recall: 0.83838\n",
      "F1-score: 0.89730\n"
     ]
    }
   ],
   "source": [
    "print(\"Evaluation of Logistic Regression\")\n",
    "print()\n",
    "metrics(test_Y, pred.round())"
   ]
  },
  {
   "cell_type": "code",
   "execution_count": 19,
   "id": "06b0b6d8",
   "metadata": {},
   "outputs": [],
   "source": [
    "from sklearn.ensemble import RandomForestClassifier\n",
    "from sklearn.tree import DecisionTreeClassifier\n",
    "#Decision Tree\n",
    "decision_tree = DecisionTreeClassifier()\n",
    "# Random Forest\n",
    "random_forest = RandomForestClassifier(n_estimators= 100)"
   ]
  },
  {
   "cell_type": "code",
   "execution_count": 20,
   "id": "47543c28",
   "metadata": {},
   "outputs": [
    {
     "name": "stdout",
     "output_type": "stream",
     "text": [
      "Random Forest Score:  99.7541487400123\n",
      "Decision Tree Score:  99.0780577750461\n"
     ]
    }
   ],
   "source": [
    "decision_tree.fit(train_X, train_Y)\n",
    "predictions_dt = decision_tree.predict(test_X)\n",
    "decision_tree_score = decision_tree.score(test_X, test_Y) * 100\n",
    "\n",
    "random_forest.fit(train_X, train_Y)\n",
    "predictions_rf = random_forest.predict(test_X)\n",
    "random_forest_score = random_forest.score(test_X, test_Y) * 100\n",
    "\n",
    "print(\"Random Forest Score: \", random_forest_score)\n",
    "print(\"Decision Tree Score: \", decision_tree_score)"
   ]
  },
  {
   "cell_type": "code",
   "execution_count": 21,
   "id": "c4bf9586",
   "metadata": {},
   "outputs": [],
   "source": [
    "from sklearn.metrics import accuracy_score, precision_score, confusion_matrix, recall_score, f1_score\n",
    "\n",
    "\n",
    "def metrics(actuals, predictions):\n",
    "    print(\"Accuracy: {:.5f}\".format(accuracy_score(actuals, predictions)))\n",
    "    print(\"Precision: {:.5f}\".format(precision_score(actuals, predictions)))\n",
    "    print(\"Recall: {:.5f}\".format(recall_score(actuals, predictions)))\n",
    "    print(\"F1-score: {:.5f}\".format(f1_score(actuals, predictions)))"
   ]
  },
  {
   "cell_type": "code",
   "execution_count": 22,
   "id": "79d847ec",
   "metadata": {},
   "outputs": [
    {
     "name": "stdout",
     "output_type": "stream",
     "text": [
      "Confusion Matrix - Decision Tree\n",
      "[[6370   39]\n",
      " [  21   78]]\n"
     ]
    }
   ],
   "source": [
    "confusion_matrix_dt = confusion_matrix(test_Y, predictions_dt.round())\n",
    "print(\"Confusion Matrix - Decision Tree\")\n",
    "print(confusion_matrix_dt)\n"
   ]
  },
  {
   "cell_type": "code",
   "execution_count": 23,
   "id": "61ebd40f",
   "metadata": {},
   "outputs": [
    {
     "name": "stdout",
     "output_type": "stream",
     "text": [
      "Evaluation of Decision Tree Model\n",
      "\n",
      "Accuracy: 0.99078\n",
      "Precision: 0.66667\n",
      "Recall: 0.78788\n",
      "F1-score: 0.72222\n"
     ]
    }
   ],
   "source": [
    "print(\"Evaluation of Decision Tree Model\")\n",
    "print()\n",
    "metrics(test_Y, predictions_dt.round())"
   ]
  },
  {
   "cell_type": "code",
   "execution_count": 24,
   "id": "57c2f0da",
   "metadata": {},
   "outputs": [
    {
     "name": "stdout",
     "output_type": "stream",
     "text": [
      "Confusion Matrix - Random Forest\n",
      "[[6407    2]\n",
      " [  14   85]]\n"
     ]
    }
   ],
   "source": [
    "confusion_matrix_rf = confusion_matrix(test_Y, predictions_rf.round())\n",
    "print(\"Confusion Matrix - Random Forest\")\n",
    "print(confusion_matrix_rf)\n"
   ]
  },
  {
   "cell_type": "code",
   "execution_count": 25,
   "id": "a2a1eb9e",
   "metadata": {},
   "outputs": [
    {
     "name": "stdout",
     "output_type": "stream",
     "text": [
      "Evaluation of Random Forest Model\n",
      "\n",
      "Accuracy: 0.99754\n",
      "Precision: 0.97701\n",
      "Recall: 0.85859\n",
      "F1-score: 0.91398\n"
     ]
    }
   ],
   "source": [
    "print(\"Evaluation of Random Forest Model\")\n",
    "print()\n",
    "metrics(test_Y, predictions_rf.round())"
   ]
  },
  {
   "cell_type": "code",
   "execution_count": 26,
   "id": "477cefdb",
   "metadata": {},
   "outputs": [
    {
     "data": {
      "text/plain": [
       "SVC(kernel='linear')"
      ]
     },
     "execution_count": 26,
     "metadata": {},
     "output_type": "execute_result"
    }
   ],
   "source": [
    "from sklearn import svm\n",
    "\n",
    "\n",
    "import matplotlib.pyplot as plt\n",
    "%matplotlib inline\n",
    "from sklearn.svm import SVC\n",
    "from sklearn.svm import SVR\n",
    "\n",
    "classifier =svm.SVC(kernel='linear')\n",
    "classifier.fit(train_X, train_Y)"
   ]
  },
  {
   "cell_type": "code",
   "execution_count": 27,
   "id": "96605b8e",
   "metadata": {},
   "outputs": [],
   "source": [
    "prediction_SVM_all = classifier.predict(test_X)"
   ]
  },
  {
   "cell_type": "code",
   "execution_count": 28,
   "id": "7d5671a9",
   "metadata": {},
   "outputs": [
    {
     "data": {
      "text/plain": [
       "array([[6407,    2],\n",
       "       [  17,   82]], dtype=int64)"
      ]
     },
     "execution_count": 28,
     "metadata": {},
     "output_type": "execute_result"
    }
   ],
   "source": [
    "cm = confusion_matrix(test_Y, prediction_SVM_all)\n",
    "cm"
   ]
  },
  {
   "cell_type": "code",
   "execution_count": 29,
   "id": "1c9db615",
   "metadata": {},
   "outputs": [],
   "source": [
    "def metrics(actuals, predictions):\n",
    "    print(\"Accuracy: {:.5f}\".format(accuracy_score(actuals, predictions)))\n",
    "    print(\"Precision: {:.5f}\".format(precision_score(actuals, predictions)))\n",
    "    print(\"Recall: {:.5f}\".format(recall_score(actuals, predictions)))\n",
    "    print(\"F1-score: {:.5f}\".format(f1_score(actuals, predictions)))"
   ]
  },
  {
   "cell_type": "code",
   "execution_count": 30,
   "id": "a77586ce",
   "metadata": {},
   "outputs": [
    {
     "name": "stdout",
     "output_type": "stream",
     "text": [
      "Evaluation of Support Vector Machine\n",
      "\n",
      "Accuracy: 0.99708\n",
      "Precision: 0.97619\n",
      "Recall: 0.82828\n",
      "F1-score: 0.89617\n"
     ]
    }
   ],
   "source": [
    "print(\"Evaluation of Support Vector Machine\")\n",
    "print()\n",
    "metrics(test_Y, prediction_SVM_all.round())"
   ]
  },
  {
   "cell_type": "code",
   "execution_count": 31,
   "id": "792e89a0",
   "metadata": {},
   "outputs": [],
   "source": [
    "X_array=X.values\n",
    "Y_array=Y.values"
   ]
  },
  {
   "cell_type": "code",
   "execution_count": 32,
   "id": "102fb606",
   "metadata": {},
   "outputs": [
    {
     "name": "stderr",
     "output_type": "stream",
     "text": [
      "C:\\Users\\test\\anaconda3\\lib\\site-packages\\sklearn\\cluster\\_kmeans.py:792: FutureWarning: 'n_jobs' was deprecated in version 0.23 and will be removed in 1.0 (renaming of 0.25).\n",
      "  warnings.warn(\"'n_jobs' was deprecated in version 0.23 and will be\"\n"
     ]
    },
    {
     "data": {
      "text/plain": [
       "KMeans(algorithm='elkan', max_iter=10000, n_clusters=2, n_jobs=-1,\n",
       "       random_state=0)"
      ]
     },
     "execution_count": 32,
     "metadata": {},
     "output_type": "execute_result"
    }
   ],
   "source": [
    "from sklearn.cluster import KMeans\n",
    "kmeans=KMeans(n_clusters=2,random_state=0,algorithm=\"elkan\",max_iter=10000,n_jobs=-1)\n",
    "kmeans.fit(train_X,train_Y)\n"
   ]
  },
  {
   "cell_type": "code",
   "execution_count": 33,
   "id": "83d0ab31",
   "metadata": {},
   "outputs": [],
   "source": [
    "kmeans_predicted_train_labels=kmeans.predict(test_X)"
   ]
  },
  {
   "cell_type": "code",
   "execution_count": 34,
   "id": "ce62117a",
   "metadata": {},
   "outputs": [
    {
     "name": "stdout",
     "output_type": "stream",
     "text": [
      "tn --> true negatives\n",
      "fp --> false positives\n",
      "fn --> false negatives\n",
      "tp --> true positives\n"
     ]
    }
   ],
   "source": [
    "#confusion matrix\n",
    "# tn fp\n",
    "# fn tp\n",
    "print(\"tn --> true negatives\")\n",
    "print(\"fp --> false positives\")\n",
    "print(\"fn --> false negatives\")\n",
    "print(\"tp --> true positives\")\n"
   ]
  },
  {
   "cell_type": "code",
   "execution_count": 35,
   "id": "8aeaff73",
   "metadata": {},
   "outputs": [
    {
     "data": {
      "text/plain": [
       "array([[6409,    0],\n",
       "       [  54,   45]], dtype=int64)"
      ]
     },
     "execution_count": 35,
     "metadata": {},
     "output_type": "execute_result"
    }
   ],
   "source": [
    "cm4= confusion_matrix(test_Y,kmeans_predicted_train_labels)\n",
    "cm4"
   ]
  },
  {
   "cell_type": "code",
   "execution_count": 36,
   "id": "7e7dc711",
   "metadata": {},
   "outputs": [],
   "source": [
    "def metrics(actuals, predictions):\n",
    "    print(\"Accuracy: {:.5f}\".format(accuracy_score(actuals, predictions)))\n",
    "    print(\"Precision: {:.5f}\".format(precision_score(actuals, predictions)))\n",
    "    print(\"Recall: {:.5f}\".format(recall_score(actuals, predictions)))\n",
    "    print(\"F1-score: {:.5f}\".format(f1_score(actuals, predictions)))"
   ]
  },
  {
   "cell_type": "code",
   "execution_count": 37,
   "id": "732c80aa",
   "metadata": {},
   "outputs": [
    {
     "name": "stdout",
     "output_type": "stream",
     "text": [
      "Evaluation of Kmeans Clustering\n",
      "\n",
      "Accuracy: 0.99170\n",
      "Precision: 1.00000\n",
      "Recall: 0.45455\n",
      "F1-score: 0.62500\n"
     ]
    }
   ],
   "source": [
    "print(\"Evaluation of Kmeans Clustering\")\n",
    "print()\n",
    "metrics(test_Y, kmeans_predicted_train_labels.round())"
   ]
  },
  {
   "cell_type": "code",
   "execution_count": 38,
   "id": "cdb7348c",
   "metadata": {},
   "outputs": [],
   "source": [
    "from sklearn.metrics import classification_report\n",
    "from sklearn.metrics import roc_auc_score as roc"
   ]
  },
  {
   "cell_type": "code",
   "execution_count": 39,
   "id": "a78dd24b",
   "metadata": {},
   "outputs": [],
   "source": [
    "from sklearn.preprocessing import StandardScaler\n",
    "from sklearn.naive_bayes import GaussianNB"
   ]
  },
  {
   "cell_type": "code",
   "execution_count": 40,
   "id": "d9b5c168",
   "metadata": {},
   "outputs": [],
   "source": [
    "classifier = GaussianNB()\n",
    "scaler = StandardScaler()\n",
    "train_X = scaler.fit_transform(train_X)\n",
    "test_X = scaler.fit_transform(test_X)"
   ]
  },
  {
   "cell_type": "code",
   "execution_count": 41,
   "id": "7feacf78",
   "metadata": {},
   "outputs": [
    {
     "data": {
      "text/plain": [
       "GaussianNB()"
      ]
     },
     "execution_count": 41,
     "metadata": {},
     "output_type": "execute_result"
    }
   ],
   "source": [
    "classifier.fit(train_X, train_Y)"
   ]
  },
  {
   "cell_type": "code",
   "execution_count": 42,
   "id": "0f56cdd7",
   "metadata": {},
   "outputs": [
    {
     "name": "stdout",
     "output_type": "stream",
     "text": [
      "              precision    recall  f1-score   support\n",
      "\n",
      "           0       1.00      0.98      0.99     14928\n",
      "           1       0.38      0.83      0.52       257\n",
      "\n",
      "    accuracy                           0.97     15185\n",
      "   macro avg       0.69      0.90      0.75     15185\n",
      "weighted avg       0.99      0.97      0.98     15185\n",
      "\n",
      "ROC AUC Score:  0.9025734680812909\n"
     ]
    }
   ],
   "source": [
    "#predict the model on the train values and check results\n",
    "predTrain = classifier.predict(train_X)\n",
    "print(classification_report(train_Y, predTrain))\n",
    "print('ROC AUC Score: ',roc(train_Y, predTrain))"
   ]
  },
  {
   "cell_type": "code",
   "execution_count": 43,
   "id": "4a8f9d1c",
   "metadata": {},
   "outputs": [
    {
     "name": "stdout",
     "output_type": "stream",
     "text": [
      "              precision    recall  f1-score   support\n",
      "\n",
      "           0       1.00      0.98      0.99      6409\n",
      "           1       0.38      0.87      0.53        99\n",
      "\n",
      "    accuracy                           0.98      6508\n",
      "   macro avg       0.69      0.92      0.76      6508\n",
      "weighted avg       0.99      0.98      0.98      6508\n",
      "\n",
      "ROC AUC Score:  0.9234212936038494\n"
     ]
    }
   ],
   "source": [
    "#predict test values and check results\n",
    "predTest = classifier.predict(test_X)\n",
    "print(classification_report(test_Y, predTest))\n",
    "print('ROC AUC Score: ',roc(test_Y, predTest))"
   ]
  },
  {
   "cell_type": "code",
   "execution_count": 45,
   "id": "06d16c15",
   "metadata": {},
   "outputs": [],
   "source": [
    "from sklearn.neighbors import KNeighborsClassifier\n",
    "(train_X, test_X, train_Y, test_Y) = train_test_split(X, Y, test_size= 0.3, random_state= 42)"
   ]
  },
  {
   "cell_type": "code",
   "execution_count": 47,
   "id": "08531fba",
   "metadata": {},
   "outputs": [],
   "source": [
    "from sklearn.preprocessing import normalize\n",
    "train_X = normalize(train_X)\n",
    "test_X=normalize(test_X)"
   ]
  },
  {
   "cell_type": "code",
   "execution_count": 49,
   "id": "b51e5a68",
   "metadata": {},
   "outputs": [],
   "source": [
    "neighbours = np.arange(1,25)\n",
    "train_accuracy =np.empty(len(neighbours))\n",
    "test_accuracy = np.empty(len(neighbours))\n",
    "\n",
    "for i,k in enumerate(neighbours):\n",
    "    #Setup a knn classifier with k neighbors\n",
    "    knn=KNeighborsClassifier(n_neighbors=k,algorithm=\"kd_tree\",n_jobs=-1)\n",
    "    \n",
    "    #Fit the model\n",
    "    knn.fit(train_X,train_Y.ravel())\n",
    "    \n",
    "    #Compute accuracy on the training set\n",
    "    train_accuracy[i] = knn.score(train_X, train_Y.ravel())\n",
    "    \n",
    "    #Compute accuracy on the test set\n",
    "    test_accuracy[i] = knn.score(test_X, test_Y.ravel()) "
   ]
  },
  {
   "cell_type": "code",
   "execution_count": 50,
   "id": "a621a0dd",
   "metadata": {},
   "outputs": [
    {
     "data": {
      "image/png": "[encoded data removed]",
      "text/plain": [
       "<Figure size 432x288 with 1 Axes>"
      ]
     },
     "metadata": {
      "needs_background": "light"
     },
     "output_type": "display_data"
    }
   ],
   "source": [
    "plt.title('k-NN Varying number of neighbors')\n",
    "plt.plot(neighbours, test_accuracy, label='Testing Accuracy')\n",
    "plt.plot(neighbours, train_accuracy, label='Training accuracy')\n",
    "plt.legend()\n",
    "plt.xlabel('Number of neighbors')\n",
    "plt.ylabel('Accuracy')\n",
    "plt.show()"
   ]
  },
  {
   "cell_type": "code",
   "execution_count": 51,
   "id": "23025eca",
   "metadata": {},
   "outputs": [],
   "source": [
    "idx = np.where(test_accuracy == max(test_accuracy))\n",
    "x = neighbours[idx]"
   ]
  },
  {
   "cell_type": "code",
   "execution_count": 52,
   "id": "28481ad8",
   "metadata": {},
   "outputs": [
    {
     "data": {
      "text/plain": [
       "KNeighborsClassifier(algorithm='kd_tree', n_jobs=-1, n_neighbors=3)"
      ]
     },
     "execution_count": 52,
     "metadata": {},
     "output_type": "execute_result"
    }
   ],
   "source": [
    "knn=KNeighborsClassifier(n_neighbors=x[0],algorithm=\"kd_tree\",n_jobs=-1)\n",
    "knn.fit(train_X,train_Y.ravel())"
   ]
  },
  {
   "cell_type": "code",
   "execution_count": 55,
   "id": "545a0db0",
   "metadata": {},
   "outputs": [],
   "source": [
    "knn_predicted_test_labels=knn.predict(test_X)"
   ]
  },
  {
   "cell_type": "code",
   "execution_count": 56,
   "id": "f45f0df6",
   "metadata": {},
   "outputs": [],
   "source": [
    "knn_accuracy_score  = accuracy_score(test_Y,knn_predicted_test_labels)\n",
    "knn_precison_score  = precision_score(test_Y,knn_predicted_test_labels)\n",
    "knn_recall_score    = recall_score(test_Y,knn_predicted_test_labels)\n",
    "knn_f1_score        = f1_score(test_Y,knn_predicted_test_labels)"
   ]
  },
  {
   "cell_type": "code",
   "execution_count": 57,
   "id": "e1754878",
   "metadata": {},
   "outputs": [
    {
     "name": "stdout",
     "output_type": "stream",
     "text": [
      "\n",
      "K-Nearest Neighbours\n",
      "Scores\n",
      "Accuracy --> 0.9972341733251383\n",
      "Precison --> 0.9550561797752809\n",
      "Recall --> 0.8585858585858586\n",
      "F1 --> 0.9042553191489363\n",
      "              precision    recall  f1-score   support\n",
      "\n",
      "           0       1.00      1.00      1.00      6409\n",
      "           1       0.96      0.86      0.90        99\n",
      "\n",
      "    accuracy                           1.00      6508\n",
      "   macro avg       0.98      0.93      0.95      6508\n",
      "weighted avg       1.00      1.00      1.00      6508\n",
      "\n"
     ]
    }
   ],
   "source": [
    "print(\"\")\n",
    "print(\"K-Nearest Neighbours\")\n",
    "print(\"Scores\")\n",
    "print(\"Accuracy -->\",knn_accuracy_score)\n",
    "print(\"Precison -->\",knn_precison_score)\n",
    "print(\"Recall -->\",knn_recall_score)\n",
    "print(\"F1 -->\",knn_f1_score)\n",
    "print(classification_report(test_Y,knn_predicted_test_labels))\n"
   ]
  },
  {
   "cell_type": "code",
   "execution_count": 62,
   "id": "744757f6",
   "metadata": {},
   "outputs": [],
   "source": [
    "from sklearn.ensemble import AdaBoostClassifier\n",
    "from sklearn.ensemble import GradientBoostingClassifier"
   ]
  },
  {
   "cell_type": "code",
   "execution_count": 66,
   "id": "05cc917a",
   "metadata": {},
   "outputs": [],
   "source": [
    "# Applying Ada Boost Classifier \n",
    "ada_boost = AdaBoostClassifier(n_estimators = 100, random_state = 123)\n"
   ]
  },
  {
   "cell_type": "code",
   "execution_count": 67,
   "id": "6909755f",
   "metadata": {},
   "outputs": [
    {
     "data": {
      "text/plain": [
       "AdaBoostClassifier(n_estimators=100, random_state=123)"
      ]
     },
     "execution_count": 67,
     "metadata": {},
     "output_type": "execute_result"
    }
   ],
   "source": [
    "\n",
    "ada_boost.fit(train_X,train_Y)\n",
    "\n"
   ]
  },
  {
   "cell_type": "code",
   "execution_count": 68,
   "id": "7e866c41",
   "metadata": {},
   "outputs": [],
   "source": [
    "y_predictions_ab = ada_boost.predict(test_X)"
   ]
  },
  {
   "cell_type": "code",
   "execution_count": 70,
   "id": "9b7417e1",
   "metadata": {},
   "outputs": [
    {
     "data": {
      "text/html": [
       "<div>\n",
       "<style scoped>\n",
       "    .dataframe tbody tr th:only-of-type {\n",
       "        vertical-align: middle;\n",
       "    }\n",
       "\n",
       "    .dataframe tbody tr th {\n",
       "        vertical-align: top;\n",
       "    }\n",
       "\n",
       "    .dataframe thead th {\n",
       "        text-align: right;\n",
       "    }\n",
       "</style>\n",
       "<table border=\"1\" class=\"dataframe\">\n",
       "  <thead>\n",
       "    <tr style=\"text-align: right;\">\n",
       "      <th></th>\n",
       "      <th>Metrics</th>\n",
       "      <th>Results</th>\n",
       "    </tr>\n",
       "  </thead>\n",
       "  <tbody>\n",
       "    <tr>\n",
       "      <th>0</th>\n",
       "      <td>Accuracy</td>\n",
       "      <td>0.995698</td>\n",
       "    </tr>\n",
       "    <tr>\n",
       "      <th>1</th>\n",
       "      <td>Precision</td>\n",
       "      <td>0.890110</td>\n",
       "    </tr>\n",
       "    <tr>\n",
       "      <th>2</th>\n",
       "      <td>Recall</td>\n",
       "      <td>0.818182</td>\n",
       "    </tr>\n",
       "    <tr>\n",
       "      <th>3</th>\n",
       "      <td>F1_score</td>\n",
       "      <td>0.852632</td>\n",
       "    </tr>\n",
       "  </tbody>\n",
       "</table>\n",
       "</div>"
      ],
      "text/plain": [
       "     Metrics   Results\n",
       "0   Accuracy  0.995698\n",
       "1  Precision  0.890110\n",
       "2     Recall  0.818182\n",
       "3   F1_score  0.852632"
      ]
     },
     "execution_count": 70,
     "metadata": {},
     "output_type": "execute_result"
    }
   ],
   "source": [
    "# Printing Evaluation Metrics for Ada Boost\n",
    "metrics_ab = [['Accuracy',(accuracy_score(test_Y, y_predictions_ab))],\n",
    "                         ['Precision',precision_score(test_Y, y_predictions_ab)],\n",
    "                         ['Recall', recall_score(test_Y, y_predictions_ab)],\n",
    "                         ['F1_score',f1_score(test_Y, y_predictions_ab)]]\n",
    "metrics_df_ab = pd.DataFrame(metrics_ab, columns = ['Metrics', 'Results'])\n",
    "metrics_df_ab"
   ]
  },
  {
   "cell_type": "code",
   "execution_count": 71,
   "id": "aff6b8b5",
   "metadata": {},
   "outputs": [
    {
     "data": {
      "text/plain": [
       "GradientBoostingClassifier(random_state=123)"
      ]
     },
     "execution_count": 71,
     "metadata": {},
     "output_type": "execute_result"
    }
   ],
   "source": [
    "\n",
    "gradient_boosting = GradientBoostingClassifier(n_estimators = 100, random_state = 123)\n",
    "gradient_boosting.fit(train_X,train_Y)\n",
    "\n"
   ]
  },
  {
   "cell_type": "code",
   "execution_count": 72,
   "id": "f317a376",
   "metadata": {},
   "outputs": [],
   "source": [
    "y_prediction_gb = gradient_boosting.predict(test_X)"
   ]
  },
  {
   "cell_type": "code",
   "execution_count": 74,
   "id": "83504ad6",
   "metadata": {},
   "outputs": [
    {
     "data": {
      "text/html": [
       "<div>\n",
       "<style scoped>\n",
       "    .dataframe tbody tr th:only-of-type {\n",
       "        vertical-align: middle;\n",
       "    }\n",
       "\n",
       "    .dataframe tbody tr th {\n",
       "        vertical-align: top;\n",
       "    }\n",
       "\n",
       "    .dataframe thead th {\n",
       "        text-align: right;\n",
       "    }\n",
       "</style>\n",
       "<table border=\"1\" class=\"dataframe\">\n",
       "  <thead>\n",
       "    <tr style=\"text-align: right;\">\n",
       "      <th></th>\n",
       "      <th>Metrics</th>\n",
       "      <th>Results</th>\n",
       "    </tr>\n",
       "  </thead>\n",
       "  <tbody>\n",
       "    <tr>\n",
       "      <th>0</th>\n",
       "      <td>Accuracy</td>\n",
       "      <td>0.995083</td>\n",
       "    </tr>\n",
       "    <tr>\n",
       "      <th>1</th>\n",
       "      <td>Precision</td>\n",
       "      <td>0.876404</td>\n",
       "    </tr>\n",
       "    <tr>\n",
       "      <th>2</th>\n",
       "      <td>Recall</td>\n",
       "      <td>0.787879</td>\n",
       "    </tr>\n",
       "    <tr>\n",
       "      <th>3</th>\n",
       "      <td>F1_score</td>\n",
       "      <td>0.829787</td>\n",
       "    </tr>\n",
       "  </tbody>\n",
       "</table>\n",
       "</div>"
      ],
      "text/plain": [
       "     Metrics   Results\n",
       "0   Accuracy  0.995083\n",
       "1  Precision  0.876404\n",
       "2     Recall  0.787879\n",
       "3   F1_score  0.829787"
      ]
     },
     "execution_count": 74,
     "metadata": {},
     "output_type": "execute_result"
    }
   ],
   "source": [
    "metrics_gb = [['Accuracy',(accuracy_score(test_Y, y_prediction_gb))],\n",
    "                         ['Precision',precision_score(test_Y, y_prediction_gb)],\n",
    "                         ['Recall', recall_score(test_Y, y_prediction_gb)],\n",
    "                         ['F1_score',f1_score(test_Y, y_prediction_gb)]]\n",
    "metrics_df_gb = pd.DataFrame(metrics_gb, columns = ['Metrics', 'Results'])\n",
    "metrics_df_gb"
   ]
  },
  {
   "cell_type": "code",
   "execution_count": 77,
   "id": "38f1dec6",
   "metadata": {},
   "outputs": [
    {
     "name": "stdout",
     "output_type": "stream",
     "text": [
      "Ada Boost ROC AUC Score:  90.83\n",
      "Gradient Boost ROC AUC Score:  89.31\n"
     ]
    }
   ],
   "source": [
    "from sklearn.metrics import roc_auc_score\n",
    "print('Ada Boost ROC AUC Score: ', (roc_auc_score(test_Y, y_predictions_ab) * 100).round(2))\n",
    "print('Gradient Boost ROC AUC Score: ', (roc_auc_score(test_Y, y_prediction_gb) * 100).round(2))"
   ]
  },
  {
   "cell_type": "code",
   "execution_count": null,
   "id": "38299034",
   "metadata": {},
   "outputs": [],
   "source": []
  }
 ],
 "metadata": {
  "kernelspec": {
   "display_name": "Python 3",
   "language": "python",
   "name": "python3"
  },
  "language_info": {
   "codemirror_mode": {
    "name": "ipython",
    "version": 3
   },
   "file_extension": ".py",
   "mimetype": "text/x-python",
   "name": "python",
   "nbconvert_exporter": "python",
   "pygments_lexer": "ipython3",
   "version": "3.8.8"
  }
 },
 "nbformat": 4,
 "nbformat_minor": 5
}
